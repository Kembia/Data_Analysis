{
 "cells": [
  {
   "cell_type": "markdown",
   "id": "a292734d-ff91-4850-8b90-7d257f8e0607",
   "metadata": {},
   "source": [
    "# Load libraries"
   ]
  },
  {
   "cell_type": "code",
   "execution_count": 240,
   "id": "984043cb-bbb1-4ea1-9438-0e6c8b86581d",
   "metadata": {},
   "outputs": [],
   "source": [
    "import numpy as np\n",
    "import pandas as pd\n",
    "import matplotlib.pyplot as plt\n",
    "import seaborn as sns\n",
    "\n",
    "import numpy as np # linear algebra\n",
    "import pandas as pd # data processing, CSV file I/O (e.g. pd.read_csv)\n",
    "\n",
    "## Visualisation\n",
    "import matplotlib.pyplot as plt\n",
    "import seaborn as sns\n",
    "\n",
    "## ignore warnings\n",
    "import warnings\n",
    "warnings.filterwarnings(\"ignore\")\n",
    "\n",
    "import statsmodels.api as sm\n",
    "from sklearn.preprocessing import OrdinalEncoder\n",
    "from sklearn.model_selection import train_test_split\n",
    "from sklearn.linear_model import LogisticRegression\n",
    "from sklearn.ensemble import RandomForestClassifier\n",
    "from sklearn.neighbors import KNeighborsClassifier\n",
    "from sklearn.svm import SVC\n",
    "from sklearn.metrics import accuracy_score\n",
    "from sklearn.metrics import classification_report\n",
    "from sklearn.pipeline import make_pipeline\n",
    "from sklearn.preprocessing import StandardScaler\n",
    "from sklearn.metrics import confusion_matrix"
   ]
  },
  {
   "cell_type": "markdown",
   "id": "c679df2e-36c1-4b1a-9969-6495eeacd84a",
   "metadata": {},
   "source": [
    "# I. Questions"
   ]
  },
  {
   "cell_type": "markdown",
   "id": "3a7370f4-ba87-45de-a00d-92cccc9cb8aa",
   "metadata": {},
   "source": [
    "Did the advertisements help increase sales?\n",
    "Which media's advertisements helped increase sales the most?"
   ]
  },
  {
   "cell_type": "markdown",
   "id": "3d266064-40db-4968-9a75-ed15cc8c8e51",
   "metadata": {},
   "source": [
    "# II. Data Collection"
   ]
  },
  {
   "cell_type": "code",
   "execution_count": 291,
   "id": "aff2e6d0-5118-4f1e-9eff-79891cc394c8",
   "metadata": {},
   "outputs": [
    {
     "data": {
      "text/html": [
       "<div>\n",
       "<style scoped>\n",
       "    .dataframe tbody tr th:only-of-type {\n",
       "        vertical-align: middle;\n",
       "    }\n",
       "\n",
       "    .dataframe tbody tr th {\n",
       "        vertical-align: top;\n",
       "    }\n",
       "\n",
       "    .dataframe thead th {\n",
       "        text-align: right;\n",
       "    }\n",
       "</style>\n",
       "<table border=\"1\" class=\"dataframe\">\n",
       "  <thead>\n",
       "    <tr style=\"text-align: right;\">\n",
       "      <th></th>\n",
       "      <th>Unnamed: 0</th>\n",
       "      <th>TV Ad Budget ($)</th>\n",
       "      <th>Radio Ad Budget ($)</th>\n",
       "      <th>Newspaper Ad Budget ($)</th>\n",
       "      <th>Sales ($)</th>\n",
       "    </tr>\n",
       "  </thead>\n",
       "  <tbody>\n",
       "    <tr>\n",
       "      <th>0</th>\n",
       "      <td>1</td>\n",
       "      <td>230.1</td>\n",
       "      <td>37.8</td>\n",
       "      <td>69.2</td>\n",
       "      <td>22.1</td>\n",
       "    </tr>\n",
       "    <tr>\n",
       "      <th>1</th>\n",
       "      <td>2</td>\n",
       "      <td>44.5</td>\n",
       "      <td>39.3</td>\n",
       "      <td>45.1</td>\n",
       "      <td>10.4</td>\n",
       "    </tr>\n",
       "    <tr>\n",
       "      <th>2</th>\n",
       "      <td>3</td>\n",
       "      <td>17.2</td>\n",
       "      <td>45.9</td>\n",
       "      <td>69.3</td>\n",
       "      <td>9.3</td>\n",
       "    </tr>\n",
       "    <tr>\n",
       "      <th>3</th>\n",
       "      <td>4</td>\n",
       "      <td>151.5</td>\n",
       "      <td>41.3</td>\n",
       "      <td>58.5</td>\n",
       "      <td>18.5</td>\n",
       "    </tr>\n",
       "    <tr>\n",
       "      <th>4</th>\n",
       "      <td>5</td>\n",
       "      <td>180.8</td>\n",
       "      <td>10.8</td>\n",
       "      <td>58.4</td>\n",
       "      <td>12.9</td>\n",
       "    </tr>\n",
       "  </tbody>\n",
       "</table>\n",
       "</div>"
      ],
      "text/plain": [
       "   Unnamed: 0  TV Ad Budget ($)  Radio Ad Budget ($)  Newspaper Ad Budget ($)  \\\n",
       "0           1             230.1                 37.8                     69.2   \n",
       "1           2              44.5                 39.3                     45.1   \n",
       "2           3              17.2                 45.9                     69.3   \n",
       "3           4             151.5                 41.3                     58.5   \n",
       "4           5             180.8                 10.8                     58.4   \n",
       "\n",
       "   Sales ($)  \n",
       "0       22.1  \n",
       "1       10.4  \n",
       "2        9.3  \n",
       "3       18.5  \n",
       "4       12.9  "
      ]
     },
     "execution_count": 291,
     "metadata": {},
     "output_type": "execute_result"
    }
   ],
   "source": [
    "data = pd.read_csv(\"Data/advertisingBudget_and_Sales.csv\")\n",
    "data.head()"
   ]
  },
  {
   "cell_type": "code",
   "execution_count": 293,
   "id": "20cd5f50-ff15-4dc5-8b00-ee3846f02426",
   "metadata": {},
   "outputs": [],
   "source": [
    "data = data[['TV Ad Budget ($)','Radio Ad Budget ($)', 'Newspaper Ad Budget ($)', 'Sales ($)']]"
   ]
  },
  {
   "cell_type": "code",
   "execution_count": 295,
   "id": "59850f91-fe9d-42a1-b65b-db91833d7e5c",
   "metadata": {},
   "outputs": [
    {
     "data": {
      "text/plain": [
       "Index(['TV Ad Budget ($)', 'Radio Ad Budget ($)', 'Newspaper Ad Budget ($)',\n",
       "       'Sales ($)'],\n",
       "      dtype='object')"
      ]
     },
     "execution_count": 295,
     "metadata": {},
     "output_type": "execute_result"
    }
   ],
   "source": [
    "data.columns"
   ]
  },
  {
   "cell_type": "code",
   "execution_count": 297,
   "id": "1be5f780-10b0-43f9-92d8-5fbd2d17c9e9",
   "metadata": {},
   "outputs": [
    {
     "data": {
      "text/plain": [
       "Index(['TV_Ad_Budget', 'Radio_Ad_Budget', 'Newspaper_Ad_Budget', 'Sales'], dtype='object')"
      ]
     },
     "execution_count": 297,
     "metadata": {},
     "output_type": "execute_result"
    }
   ],
   "source": [
    "data.rename(columns={'TV Ad Budget ($)' : 'TV_Ad_Budget', 'Radio Ad Budget ($)' : 'Radio_Ad_Budget', 'Newspaper Ad Budget ($)': 'Newspaper_Ad_Budget', 'Sales ($)' : 'Sales'}, inplace=True)\n",
    "data.columns"
   ]
  },
  {
   "cell_type": "code",
   "execution_count": 299,
   "id": "527ee34f-c2ba-4e78-825a-2f723003086b",
   "metadata": {},
   "outputs": [
    {
     "data": {
      "text/plain": [
       "(200, 4)"
      ]
     },
     "execution_count": 299,
     "metadata": {},
     "output_type": "execute_result"
    }
   ],
   "source": [
    "## shape of data\n",
    "data.shape"
   ]
  },
  {
   "cell_type": "code",
   "execution_count": 301,
   "id": "a0797e02-e792-4fef-b9b9-1bafb26c2a35",
   "metadata": {},
   "outputs": [
    {
     "data": {
      "text/plain": [
       "Index(['TV_Ad_Budget', 'Radio_Ad_Budget', 'Newspaper_Ad_Budget', 'Sales'], dtype='object')"
      ]
     },
     "execution_count": 301,
     "metadata": {},
     "output_type": "execute_result"
    }
   ],
   "source": [
    "## columns of data\n",
    "data.columns"
   ]
  },
  {
   "cell_type": "code",
   "execution_count": 303,
   "id": "66d02dad-e12c-4a12-9a44-f15f7abb4c52",
   "metadata": {},
   "outputs": [
    {
     "name": "stdout",
     "output_type": "stream",
     "text": [
      "<class 'pandas.core.frame.DataFrame'>\n",
      "RangeIndex: 200 entries, 0 to 199\n",
      "Data columns (total 4 columns):\n",
      " #   Column               Non-Null Count  Dtype  \n",
      "---  ------               --------------  -----  \n",
      " 0   TV_Ad_Budget         200 non-null    float64\n",
      " 1   Radio_Ad_Budget      200 non-null    float64\n",
      " 2   Newspaper_Ad_Budget  200 non-null    float64\n",
      " 3   Sales                200 non-null    float64\n",
      "dtypes: float64(4)\n",
      "memory usage: 6.4 KB\n"
     ]
    }
   ],
   "source": [
    "## Get a quick description of the data (total number of rows, each attribute’s type, and number of non-null values)\n",
    "data.info()"
   ]
  },
  {
   "cell_type": "code",
   "execution_count": 305,
   "id": "4854760c-64ff-4220-b9b2-e1e28c71cc41",
   "metadata": {},
   "outputs": [
    {
     "data": {
      "text/html": [
       "<div>\n",
       "<style scoped>\n",
       "    .dataframe tbody tr th:only-of-type {\n",
       "        vertical-align: middle;\n",
       "    }\n",
       "\n",
       "    .dataframe tbody tr th {\n",
       "        vertical-align: top;\n",
       "    }\n",
       "\n",
       "    .dataframe thead th {\n",
       "        text-align: right;\n",
       "    }\n",
       "</style>\n",
       "<table border=\"1\" class=\"dataframe\">\n",
       "  <thead>\n",
       "    <tr style=\"text-align: right;\">\n",
       "      <th></th>\n",
       "      <th>TV_Ad_Budget</th>\n",
       "      <th>Radio_Ad_Budget</th>\n",
       "      <th>Newspaper_Ad_Budget</th>\n",
       "      <th>Sales</th>\n",
       "    </tr>\n",
       "  </thead>\n",
       "  <tbody>\n",
       "    <tr>\n",
       "      <th>count</th>\n",
       "      <td>200.000000</td>\n",
       "      <td>200.000000</td>\n",
       "      <td>200.000000</td>\n",
       "      <td>200.000000</td>\n",
       "    </tr>\n",
       "    <tr>\n",
       "      <th>mean</th>\n",
       "      <td>147.042500</td>\n",
       "      <td>23.264000</td>\n",
       "      <td>30.554000</td>\n",
       "      <td>14.022500</td>\n",
       "    </tr>\n",
       "    <tr>\n",
       "      <th>std</th>\n",
       "      <td>85.854236</td>\n",
       "      <td>14.846809</td>\n",
       "      <td>21.778621</td>\n",
       "      <td>5.217457</td>\n",
       "    </tr>\n",
       "    <tr>\n",
       "      <th>min</th>\n",
       "      <td>0.700000</td>\n",
       "      <td>0.000000</td>\n",
       "      <td>0.300000</td>\n",
       "      <td>1.600000</td>\n",
       "    </tr>\n",
       "    <tr>\n",
       "      <th>25%</th>\n",
       "      <td>74.375000</td>\n",
       "      <td>9.975000</td>\n",
       "      <td>12.750000</td>\n",
       "      <td>10.375000</td>\n",
       "    </tr>\n",
       "    <tr>\n",
       "      <th>50%</th>\n",
       "      <td>149.750000</td>\n",
       "      <td>22.900000</td>\n",
       "      <td>25.750000</td>\n",
       "      <td>12.900000</td>\n",
       "    </tr>\n",
       "    <tr>\n",
       "      <th>75%</th>\n",
       "      <td>218.825000</td>\n",
       "      <td>36.525000</td>\n",
       "      <td>45.100000</td>\n",
       "      <td>17.400000</td>\n",
       "    </tr>\n",
       "    <tr>\n",
       "      <th>max</th>\n",
       "      <td>296.400000</td>\n",
       "      <td>49.600000</td>\n",
       "      <td>114.000000</td>\n",
       "      <td>27.000000</td>\n",
       "    </tr>\n",
       "  </tbody>\n",
       "</table>\n",
       "</div>"
      ],
      "text/plain": [
       "       TV_Ad_Budget  Radio_Ad_Budget  Newspaper_Ad_Budget       Sales\n",
       "count    200.000000       200.000000           200.000000  200.000000\n",
       "mean     147.042500        23.264000            30.554000   14.022500\n",
       "std       85.854236        14.846809            21.778621    5.217457\n",
       "min        0.700000         0.000000             0.300000    1.600000\n",
       "25%       74.375000         9.975000            12.750000   10.375000\n",
       "50%      149.750000        22.900000            25.750000   12.900000\n",
       "75%      218.825000        36.525000            45.100000   17.400000\n",
       "max      296.400000        49.600000           114.000000   27.000000"
      ]
     },
     "execution_count": 305,
     "metadata": {},
     "output_type": "execute_result"
    }
   ],
   "source": [
    "## Basics statistics : summarize dataset with descriptives statistics\n",
    "data.describe()"
   ]
  },
  {
   "cell_type": "markdown",
   "id": "97b1550a-53bd-4284-9a71-2aea00437f10",
   "metadata": {},
   "source": [
    "The first line, count displays the number of observations. For example for Radio_Ad_Budget feature, there are 200 samples, the minimum is 0 and, the maximum is 49.600000. The mean is 23.264000 and the standard deviation is 14.846809. 25% of observations fall under 9.975000, 50% of observations fall under 22.900000 and 75% of observations fall under 36.525000"
   ]
  },
  {
   "cell_type": "markdown",
   "id": "ea8a2bd7-369c-4b98-9fe4-d48040499c26",
   "metadata": {},
   "source": [
    "# III. Data Cleaning"
   ]
  },
  {
   "cell_type": "code",
   "execution_count": 309,
   "id": "b453352c-739d-40eb-b09f-147d08a6dd9a",
   "metadata": {},
   "outputs": [
    {
     "name": "stdout",
     "output_type": "stream",
     "text": [
      "\n",
      "Missing values of each column:\n",
      "TV_Ad_Budget           0\n",
      "Radio_Ad_Budget        0\n",
      "Newspaper_Ad_Budget    0\n",
      "Sales                  0\n",
      "dtype: int64\n",
      "\n",
      "Percentage of Missing Data:\n",
      "TV_Ad_Budget           0.0\n",
      "Radio_Ad_Budget        0.0\n",
      "Newspaper_Ad_Budget    0.0\n",
      "Sales                  0.0\n",
      "dtype: float64\n"
     ]
    },
    {
     "data": {
      "image/png": "[encoded data removed]",
      "text/plain": [
       "<Figure size 640x480 with 1 Axes>"
      ]
     },
     "metadata": {},
     "output_type": "display_data"
    }
   ],
   "source": [
    "## Check for missing values\n",
    "missing_values = data.isnull().sum()\n",
    "print(\"\\nMissing values of each column:\")\n",
    "print(missing_values)\n",
    "\n",
    "sns.heatmap(data.isnull(),cmap = 'magma', cbar = False)\n",
    "\n",
    "\n",
    "missing_percentage = (missing_values / len(data)) * 100\n",
    "print(\"\\nPercentage of Missing Data:\",)\n",
    "print(missing_percentage)"
   ]
  },
  {
   "cell_type": "code",
   "execution_count": 311,
   "id": "20fd6b41-7f2f-4748-a7a6-3bb87123acc9",
   "metadata": {},
   "outputs": [
    {
     "name": "stdout",
     "output_type": "stream",
     "text": [
      "0\n"
     ]
    }
   ],
   "source": [
    "## Duplicated Values are there?\n",
    "duplicate = data.duplicated().sum()\n",
    "print(duplicate)"
   ]
  },
  {
   "cell_type": "markdown",
   "id": "47874a5c-5087-4d73-a84a-540049c12d0d",
   "metadata": {},
   "source": [
    "# IV. Exploration Data Analysis (EDA) & Data Visualization"
   ]
  },
  {
   "cell_type": "markdown",
   "id": "bb2995c9-e97e-4872-ae1b-237fbce314b0",
   "metadata": {},
   "source": [
    "## Outliers detection"
   ]
  },
  {
   "cell_type": "code",
   "execution_count": 327,
   "id": "8d1ea84e-9c4f-4842-9bc1-8049f4ec2105",
   "metadata": {},
   "outputs": [
    {
     "data": {
      "image/png": "[encoded data removed]",
      "text/plain": [
       "<Figure size 1000x600 with 1 Axes>"
      ]
     },
     "metadata": {},
     "output_type": "display_data"
    }
   ],
   "source": [
    "## Boxplot => TV Ad Budget attribute\n",
    "plt.figure(figsize = (10,6))\n",
    "sns.boxplot(x=data['TV_Ad_Budget'], color = 'purple')\n",
    "plt.title('Outlier Analysis in TV Ad Budget')\n",
    "plt.xlabel('TV Ad Budget')\n",
    "plt.show()"
   ]
  },
  {
   "cell_type": "code",
   "execution_count": 325,
   "id": "b2999ea0-5e20-4099-a9d5-c1cf8a0b4512",
   "metadata": {},
   "outputs": [
    {
     "data": {
      "image/png": "[encoded data removed]",
      "text/plain": [
       "<Figure size 1000x600 with 1 Axes>"
      ]
     },
     "metadata": {},
     "output_type": "display_data"
    }
   ],
   "source": [
    "## Boxplot => Radio Ad Budget attribute\n",
    "plt.figure(figsize = (10,6))\n",
    "sns.boxplot(x=data['Radio_Ad_Budget'], color = 'purple')\n",
    "plt.title('Outlier Analysis in Radio Ad Budget')\n",
    "plt.xlabel('Radio Ad Budget')\n",
    "plt.show()"
   ]
  },
  {
   "cell_type": "code",
   "execution_count": 319,
   "id": "a9907de0-59e9-480d-a982-b54b97f19da7",
   "metadata": {},
   "outputs": [
    {
     "data": {
      "image/png": "[encoded data removed]",
      "text/plain": [
       "<Figure size 1000x600 with 1 Axes>"
      ]
     },
     "metadata": {},
     "output_type": "display_data"
    }
   ],
   "source": [
    "## Boxplot => Newspaper Ad Budget attribute\n",
    "plt.figure(figsize = (10,6))\n",
    "sns.boxplot(x=data['Newspaper_Ad_Budget'], color = 'purple')\n",
    "plt.title('Outlier Analysis in Newspaper Ad Budget')\n",
    "plt.xlabel('Newspaper Ad Budget')\n",
    "plt.show()"
   ]
  },
  {
   "cell_type": "code",
   "execution_count": 321,
   "id": "eec8212a-5659-4440-8e3e-c89224f87e13",
   "metadata": {},
   "outputs": [
    {
     "data": {
      "image/png": "[encoded data removed]",
      "text/plain": [
       "<Figure size 1000x600 with 1 Axes>"
      ]
     },
     "metadata": {},
     "output_type": "display_data"
    }
   ],
   "source": [
    "## Boxplot => Sales ($) attribute\n",
    "plt.figure(figsize = (10,6))\n",
    "sns.boxplot(x=data['Sales'], color = 'purple')\n",
    "plt.title('Outlier Analysis in Sales')\n",
    "plt.xlabel('Sales')\n",
    "plt.show()\n"
   ]
  },
  {
   "cell_type": "code",
   "execution_count": 329,
   "id": "d3530e6c-5eda-445b-99c3-1ab598186745",
   "metadata": {},
   "outputs": [],
   "source": [
    "## delete outliers observations\n",
    "data_without_outliers = data[data['Newspaper_Ad_Budget'] <= 100]"
   ]
  },
  {
   "cell_type": "code",
   "execution_count": 331,
   "id": "40d920ba-b163-4e36-8840-8d00f0d29f2f",
   "metadata": {},
   "outputs": [
    {
     "data": {
      "text/plain": [
       "(198, 4)"
      ]
     },
     "execution_count": 331,
     "metadata": {},
     "output_type": "execute_result"
    }
   ],
   "source": [
    "data_without_outliers.shape"
   ]
  },
  {
   "cell_type": "code",
   "execution_count": 333,
   "id": "ed4a589b-434b-44fd-810d-73aafc8757b2",
   "metadata": {},
   "outputs": [
    {
     "data": {
      "image/png": "[encoded data removed]",
      "text/plain": [
       "<Figure size 1000x600 with 1 Axes>"
      ]
     },
     "metadata": {},
     "output_type": "display_data"
    }
   ],
   "source": [
    "## Boxplot => Newspaper Ad Budget attribute without outliers\n",
    "plt.figure(figsize = (10,6))\n",
    "sns.boxplot(x=data_without_outliers['Newspaper_Ad_Budget'], color = 'purple')\n",
    "plt.title('Outlier Analysis in Newspaper Ad Budget')\n",
    "plt.xlabel('Newspaper Ad Budget')\n",
    "plt.show()"
   ]
  },
  {
   "cell_type": "markdown",
   "id": "e27d075b-f0a2-44b8-8386-860d34ed09a8",
   "metadata": {},
   "source": [
    "### Correlation Analysis"
   ]
  },
  {
   "cell_type": "code",
   "execution_count": 335,
   "id": "0220adc9-f42e-4825-9d3d-cc6f4f8d5ac4",
   "metadata": {},
   "outputs": [
    {
     "data": {
      "image/png": "[encoded data removed]",
      "text/plain": [
       "<Figure size 1200x800 with 2 Axes>"
      ]
     },
     "metadata": {},
     "output_type": "display_data"
    }
   ],
   "source": [
    "## Correlation Analysis - heatmap\n",
    "\n",
    "plt.figure(figsize=(12,8))\n",
    "sns.heatmap(data_without_outliers.corr(), annot=True, cmap=\"Greens\")\n",
    "plt.title('Correlation Heatmap of Advertissement Data')\n",
    "plt.show()"
   ]
  },
  {
   "cell_type": "markdown",
   "id": "209c2780-2691-48b7-888d-142dcbdf9276",
   "metadata": {},
   "source": [
    "We observe a greater correlation between TV and sales and note that the advertising budgets in the different channels (TV, Radio and Newspaper) have a weak correlation."
   ]
  },
  {
   "cell_type": "markdown",
   "id": "d2bb5014-fa21-423f-9164-a8e6140539a5",
   "metadata": {},
   "source": [
    "# V. Model"
   ]
  },
  {
   "cell_type": "markdown",
   "id": "b684fba6-c255-4384-aa08-e9d92d9312ff",
   "metadata": {},
   "source": [
    "## Machine Learning model"
   ]
  },
  {
   "cell_type": "code",
   "execution_count": 339,
   "id": "bad8efba-16aa-484e-b265-0a2c285454d1",
   "metadata": {},
   "outputs": [],
   "source": [
    "## Data preparation: define X (features or independent variables) and y(target or dependent variable)\n",
    "features = ['TV_Ad_Budget', 'Radio_Ad_Budget', 'Newspaper_Ad_Budget']\n",
    "target = ['Sales']\n",
    "\n",
    "X = data_without_outliers[features]\n",
    "y = data_without_outliers[target]"
   ]
  },
  {
   "cell_type": "code",
   "execution_count": 341,
   "id": "83cc570f-eeb8-4244-83d8-5c22d472daaa",
   "metadata": {},
   "outputs": [
    {
     "data": {
      "text/html": [
       "<div>\n",
       "<style scoped>\n",
       "    .dataframe tbody tr th:only-of-type {\n",
       "        vertical-align: middle;\n",
       "    }\n",
       "\n",
       "    .dataframe tbody tr th {\n",
       "        vertical-align: top;\n",
       "    }\n",
       "\n",
       "    .dataframe thead th {\n",
       "        text-align: right;\n",
       "    }\n",
       "</style>\n",
       "<table border=\"1\" class=\"dataframe\">\n",
       "  <thead>\n",
       "    <tr style=\"text-align: right;\">\n",
       "      <th></th>\n",
       "      <th>TV_Ad_Budget</th>\n",
       "      <th>Radio_Ad_Budget</th>\n",
       "      <th>Newspaper_Ad_Budget</th>\n",
       "    </tr>\n",
       "  </thead>\n",
       "  <tbody>\n",
       "    <tr>\n",
       "      <th>0</th>\n",
       "      <td>230.1</td>\n",
       "      <td>37.8</td>\n",
       "      <td>69.2</td>\n",
       "    </tr>\n",
       "    <tr>\n",
       "      <th>1</th>\n",
       "      <td>44.5</td>\n",
       "      <td>39.3</td>\n",
       "      <td>45.1</td>\n",
       "    </tr>\n",
       "    <tr>\n",
       "      <th>2</th>\n",
       "      <td>17.2</td>\n",
       "      <td>45.9</td>\n",
       "      <td>69.3</td>\n",
       "    </tr>\n",
       "    <tr>\n",
       "      <th>3</th>\n",
       "      <td>151.5</td>\n",
       "      <td>41.3</td>\n",
       "      <td>58.5</td>\n",
       "    </tr>\n",
       "    <tr>\n",
       "      <th>4</th>\n",
       "      <td>180.8</td>\n",
       "      <td>10.8</td>\n",
       "      <td>58.4</td>\n",
       "    </tr>\n",
       "  </tbody>\n",
       "</table>\n",
       "</div>"
      ],
      "text/plain": [
       "   TV_Ad_Budget  Radio_Ad_Budget  Newspaper_Ad_Budget\n",
       "0         230.1             37.8                 69.2\n",
       "1          44.5             39.3                 45.1\n",
       "2          17.2             45.9                 69.3\n",
       "3         151.5             41.3                 58.5\n",
       "4         180.8             10.8                 58.4"
      ]
     },
     "execution_count": 341,
     "metadata": {},
     "output_type": "execute_result"
    }
   ],
   "source": [
    "X.head()"
   ]
  },
  {
   "cell_type": "code",
   "execution_count": 343,
   "id": "a8737e75-a4c8-4859-a6aa-418554ce261c",
   "metadata": {},
   "outputs": [
    {
     "data": {
      "text/html": [
       "<div>\n",
       "<style scoped>\n",
       "    .dataframe tbody tr th:only-of-type {\n",
       "        vertical-align: middle;\n",
       "    }\n",
       "\n",
       "    .dataframe tbody tr th {\n",
       "        vertical-align: top;\n",
       "    }\n",
       "\n",
       "    .dataframe thead th {\n",
       "        text-align: right;\n",
       "    }\n",
       "</style>\n",
       "<table border=\"1\" class=\"dataframe\">\n",
       "  <thead>\n",
       "    <tr style=\"text-align: right;\">\n",
       "      <th></th>\n",
       "      <th>Sales</th>\n",
       "    </tr>\n",
       "  </thead>\n",
       "  <tbody>\n",
       "    <tr>\n",
       "      <th>0</th>\n",
       "      <td>22.1</td>\n",
       "    </tr>\n",
       "    <tr>\n",
       "      <th>1</th>\n",
       "      <td>10.4</td>\n",
       "    </tr>\n",
       "    <tr>\n",
       "      <th>2</th>\n",
       "      <td>9.3</td>\n",
       "    </tr>\n",
       "    <tr>\n",
       "      <th>3</th>\n",
       "      <td>18.5</td>\n",
       "    </tr>\n",
       "    <tr>\n",
       "      <th>4</th>\n",
       "      <td>12.9</td>\n",
       "    </tr>\n",
       "  </tbody>\n",
       "</table>\n",
       "</div>"
      ],
      "text/plain": [
       "   Sales\n",
       "0   22.1\n",
       "1   10.4\n",
       "2    9.3\n",
       "3   18.5\n",
       "4   12.9"
      ]
     },
     "execution_count": 343,
     "metadata": {},
     "output_type": "execute_result"
    }
   ],
   "source": [
    "y.head()"
   ]
  },
  {
   "cell_type": "code",
   "execution_count": 345,
   "id": "370953f8-1a44-416c-a7f4-b9297d77776f",
   "metadata": {},
   "outputs": [],
   "source": [
    "## Splitting Data into training set and test set\n",
    "## test_size specifies the proportion of data to be included in test set\n",
    "## random_state ensures reproducibility of split\n",
    "X_train, X_test, y_train, y_test = train_test_split(X, y, test_size=0.2, random_state = 42)"
   ]
  },
  {
   "cell_type": "code",
   "execution_count": 347,
   "id": "d396b240-0a80-4875-b038-725c26871c7a",
   "metadata": {},
   "outputs": [
    {
     "name": "stdout",
     "output_type": "stream",
     "text": [
      "\n",
      "Training data shape:  (158, 3)\n",
      "\n",
      "Test data shape:  (40, 3)\n"
     ]
    }
   ],
   "source": [
    "print(\"\\nTraining data shape: \",X_train.shape)\n",
    "print(\"\\nTest data shape: \",X_test.shape)"
   ]
  },
  {
   "cell_type": "code",
   "execution_count": 349,
   "id": "425afac9-70ef-4146-9897-097ee323fce7",
   "metadata": {},
   "outputs": [
    {
     "name": "stdout",
     "output_type": "stream",
     "text": [
      "Training set size : 158 samples\n",
      "Test set size : 40 samples\n"
     ]
    }
   ],
   "source": [
    "## check the size of training set and test set\n",
    "print(f'Training set size : {X_train.shape[0]} samples')\n",
    "print(f'Test set size : {X_test.shape[0]} samples')"
   ]
  },
  {
   "cell_type": "markdown",
   "id": "be0fefc8-ada5-4a0c-bf1c-01cfadebf2d0",
   "metadata": {},
   "source": [
    "### Linear Regression Model with Statsmodels.api library"
   ]
  },
  {
   "cell_type": "code",
   "execution_count": 351,
   "id": "34da3618-3d2f-41a6-b8fd-c599e82aa2bd",
   "metadata": {},
   "outputs": [
    {
     "data": {
      "text/html": [
       "<div>\n",
       "<style scoped>\n",
       "    .dataframe tbody tr th:only-of-type {\n",
       "        vertical-align: middle;\n",
       "    }\n",
       "\n",
       "    .dataframe tbody tr th {\n",
       "        vertical-align: top;\n",
       "    }\n",
       "\n",
       "    .dataframe thead th {\n",
       "        text-align: right;\n",
       "    }\n",
       "</style>\n",
       "<table border=\"1\" class=\"dataframe\">\n",
       "  <thead>\n",
       "    <tr style=\"text-align: right;\">\n",
       "      <th></th>\n",
       "      <th>const</th>\n",
       "      <th>TV_Ad_Budget</th>\n",
       "      <th>Radio_Ad_Budget</th>\n",
       "      <th>Newspaper_Ad_Budget</th>\n",
       "    </tr>\n",
       "  </thead>\n",
       "  <tbody>\n",
       "    <tr>\n",
       "      <th>139</th>\n",
       "      <td>1.0</td>\n",
       "      <td>184.9</td>\n",
       "      <td>43.9</td>\n",
       "      <td>1.7</td>\n",
       "    </tr>\n",
       "    <tr>\n",
       "      <th>5</th>\n",
       "      <td>1.0</td>\n",
       "      <td>8.7</td>\n",
       "      <td>48.9</td>\n",
       "      <td>75.0</td>\n",
       "    </tr>\n",
       "    <tr>\n",
       "      <th>67</th>\n",
       "      <td>1.0</td>\n",
       "      <td>139.3</td>\n",
       "      <td>14.5</td>\n",
       "      <td>10.2</td>\n",
       "    </tr>\n",
       "    <tr>\n",
       "      <th>140</th>\n",
       "      <td>1.0</td>\n",
       "      <td>73.4</td>\n",
       "      <td>17.0</td>\n",
       "      <td>12.9</td>\n",
       "    </tr>\n",
       "    <tr>\n",
       "      <th>106</th>\n",
       "      <td>1.0</td>\n",
       "      <td>25.0</td>\n",
       "      <td>11.0</td>\n",
       "      <td>29.7</td>\n",
       "    </tr>\n",
       "  </tbody>\n",
       "</table>\n",
       "</div>"
      ],
      "text/plain": [
       "     const  TV_Ad_Budget  Radio_Ad_Budget  Newspaper_Ad_Budget\n",
       "139    1.0         184.9             43.9                  1.7\n",
       "5      1.0           8.7             48.9                 75.0\n",
       "67     1.0         139.3             14.5                 10.2\n",
       "140    1.0          73.4             17.0                 12.9\n",
       "106    1.0          25.0             11.0                 29.7"
      ]
     },
     "execution_count": 351,
     "metadata": {},
     "output_type": "execute_result"
    }
   ],
   "source": [
    "## Training\n",
    "\n",
    "## Adding a constant to the predictors because statsmodels'OLS doesn't include it by default\n",
    "X_trainConst = sm.add_constant(X_train)\n",
    "X_trainConst.head()"
   ]
  },
  {
   "cell_type": "code",
   "execution_count": 353,
   "id": "8ec0246d-1a06-4e5d-9ff7-863fe92ab9d3",
   "metadata": {},
   "outputs": [
    {
     "name": "stdout",
     "output_type": "stream",
     "text": [
      "                            OLS Regression Results                            \n",
      "==============================================================================\n",
      "Dep. Variable:                  Sales   R-squared:                       0.894\n",
      "Model:                            OLS   Adj. R-squared:                  0.892\n",
      "Method:                 Least Squares   F-statistic:                     431.1\n",
      "Date:                Fri, 11 Oct 2024   Prob (F-statistic):           1.12e-74\n",
      "Time:                        00:38:28   Log-Likelihood:                -306.93\n",
      "No. Observations:                 158   AIC:                             621.9\n",
      "Df Residuals:                     154   BIC:                             634.1\n",
      "Df Model:                           3                                         \n",
      "Covariance Type:            nonrobust                                         \n",
      "=======================================================================================\n",
      "                          coef    std err          t      P>|t|      [0.025      0.975]\n",
      "---------------------------------------------------------------------------------------\n",
      "const                   2.9799      0.355      8.399      0.000       2.279       3.681\n",
      "TV_Ad_Budget            0.0452      0.002     28.489      0.000       0.042       0.048\n",
      "Radio_Ad_Budget         0.1824      0.010     18.548      0.000       0.163       0.202\n",
      "Newspaper_Ad_Budget     0.0050      0.007      0.714      0.476      -0.009       0.019\n",
      "==============================================================================\n",
      "Omnibus:                       54.954   Durbin-Watson:                   2.051\n",
      "Prob(Omnibus):                  0.000   Jarque-Bera (JB):              146.093\n",
      "Skew:                          -1.428   Prob(JB):                     1.89e-32\n",
      "Kurtosis:                       6.747   Cond. No.                         455.\n",
      "==============================================================================\n",
      "\n",
      "Notes:\n",
      "[1] Standard Errors assume that the covariance matrix of the errors is correctly specified.\n"
     ]
    }
   ],
   "source": [
    "## Fit the OLS model\n",
    "modelFitted = sm.OLS(y_train, X_trainConst).fit()\n",
    "\n",
    "## Summary of model\n",
    "print(modelFitted.summary())"
   ]
  },
  {
   "cell_type": "raw",
   "id": "96c38c91-683f-40a8-9301-aff9c6c99a07",
   "metadata": {},
   "source": [
    "### Interpreting Results\n",
    "Intercept (const:  2.9799): sales increase by 2.9799 when all independent variables (TV, Radio, Newspaper advertisements) are null.\n",
    "\n",
    "##### Coefficients of the independent variables \n",
    "For one unit increase in TV Ad Budget, sales increase by 0.0452 units,\n",
    "For one unit increase in Radio Ad Budget, sales increase by 0.1824 units,\n",
    "For one unit increase in Newspaper Ad Budget, sales increase by 0.0050 units.\n",
    "\n",
    "Statistical significance of coefficients: The coefficients of the variables TV Ad Budget and Radio Ad Budget have p-values ​​equal to 0.000, which indicates that they are statistically significant. While the p-value of the coefficient of the variable Newspaper Ad Budget is greater than 5% so this coefficient is not significant.\n",
    "\n",
    "R-squared: 0.894\n",
    "Adj. R-squared: 0.892 (is the best indicator of explanatory power in a multiple linear regression model compared to R2 which sometimes increases with the number of features even if these variables do not bring anything more to the model)\n",
    "==> 89% of sales variability is explained by advertising spending across different channels (TV, Radio, Newspapers)"
   ]
  },
  {
   "cell_type": "markdown",
   "id": "ee1bbf04-531c-45ac-8658-74405e188e2f",
   "metadata": {},
   "source": [
    "### Linear Regression Model with scikit learn"
   ]
  },
  {
   "cell_type": "markdown",
   "id": "3d550fd0-ba6a-4005-bb54-4b8f94093403",
   "metadata": {},
   "source": [
    "### Train/Test/Evaluation with Sklearn"
   ]
  },
  {
   "cell_type": "markdown",
   "id": "3a9a36d4-4c44-4237-b59f-3d62a01a8429",
   "metadata": {
    "jp-MarkdownHeadingCollapsed": true
   },
   "source": [
    "### Scaling the Data"
   ]
  },
  {
   "cell_type": "code",
   "execution_count": 355,
   "id": "91f22a1e-eea3-4e19-a1ea-8de19df71a5a",
   "metadata": {},
   "outputs": [],
   "source": [
    "from sklearn.preprocessing import StandardScaler\n",
    "# Initialize the StandardScaler\n",
    "scaler = StandardScaler()\n",
    "\n",
    "# Fit the scaler on the training data and transform it\n",
    "X_train_scaled = scaler.fit_transform(X_train)\n",
    "\n",
    "# Apply the same transformation to the test data\n",
    "X_test_scaled = scaler.transform(X_test)"
   ]
  },
  {
   "cell_type": "code",
   "execution_count": 359,
   "id": "12e602c6-4db6-468f-a62c-0380ab389754",
   "metadata": {},
   "outputs": [
    {
     "name": "stdout",
     "output_type": "stream",
     "text": [
      "RMSE on Test Set: 1.6555699642993031\n"
     ]
    }
   ],
   "source": [
    "from sklearn.linear_model import LinearRegression\n",
    "from sklearn.metrics import mean_squared_error\n",
    "from math import sqrt\n",
    "\n",
    "# Create and fit the model\n",
    "lr = LinearRegression()\n",
    "lr.fit(X_train_scaled, y_train)\n",
    "\n",
    "# Make predictions on the scaled test data\n",
    "y_pred = lr.predict(X_test_scaled)\n",
    "\n",
    "# Calculate MSE and RMSE\n",
    "mse = mean_squared_error(y_test, y_pred)\n",
    "rmse = sqrt(mse)\n",
    "\n",
    "# Output the performance metrics\n",
    "print(f'RMSE on Test Set: {rmse}')"
   ]
  }
 ],
 "metadata": {
  "kernelspec": {
   "display_name": "Python 3 (ipykernel)",
   "language": "python",
   "name": "python3"
  },
  "language_info": {
   "codemirror_mode": {
    "name": "ipython",
    "version": 3
   },
   "file_extension": ".py",
   "mimetype": "text/x-python",
   "name": "python",
   "nbconvert_exporter": "python",
   "pygments_lexer": "ipython3",
   "version": "3.11.7"
  }
 },
 "nbformat": 4,
 "nbformat_minor": 5
}
